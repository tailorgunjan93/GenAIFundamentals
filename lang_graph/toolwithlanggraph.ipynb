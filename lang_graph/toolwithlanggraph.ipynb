{
 "cells": [
  {
   "cell_type": "code",
   "execution_count": 604,
   "id": "ed8f64ea",
   "metadata": {},
   "outputs": [],
   "source": [
    "#python normal imports\n",
    "from pydantic import BaseModel,Field\n",
    "import os\n",
    "from dotenv import load_dotenv\n",
    "from typing import Annotated,TypedDict\n"
   ]
  },
  {
   "cell_type": "code",
   "execution_count": 605,
   "id": "0b0c87bf",
   "metadata": {},
   "outputs": [],
   "source": [
    "#AI import for langchain and lang graph\n",
    "from langgraph.graph import StateGraph, START, END\n",
    "from langgraph.graph.message import add_messages\n",
    "from langchain_google_genai import ChatGoogleGenerativeAI\n",
    "from langchain.agents import Tool\n",
    "from langchain_community.utilities import GoogleSerperAPIWrapper\n",
    "import requests\n",
    "#other imports\n",
    "from IPython.display import Image, display\n",
    "import gradio as gr\n"
   ]
  },
  {
   "cell_type": "code",
   "execution_count": 606,
   "id": "441f5627",
   "metadata": {},
   "outputs": [],
   "source": [
    "class State(BaseModel):\n",
    "    messages : Annotated[list,add_messages]\n",
    "    "
   ]
  },
  {
   "cell_type": "code",
   "execution_count": 607,
   "id": "be8ab68c",
   "metadata": {},
   "outputs": [
    {
     "data": {
      "text/plain": [
       "True"
      ]
     },
     "execution_count": 607,
     "metadata": {},
     "output_type": "execute_result"
    }
   ],
   "source": [
    "load_dotenv(override=True)"
   ]
  },
  {
   "cell_type": "code",
   "execution_count": 608,
   "id": "e4b9a28c",
   "metadata": {},
   "outputs": [],
   "source": [
    "google_api_key = os.getenv(\"GEMINI_API_KEY\")\n",
    "google_model = \"gemini-2.0-flash\""
   ]
  },
  {
   "cell_type": "code",
   "execution_count": 609,
   "id": "1eedd30b",
   "metadata": {},
   "outputs": [],
   "source": [
    "llm = ChatGoogleGenerativeAI(api_key=google_api_key,model=google_model)\n",
    "serper = GoogleSerperAPIWrapper()"
   ]
  },
  {
   "cell_type": "code",
   "execution_count": 610,
   "id": "28a7193b",
   "metadata": {},
   "outputs": [],
   "source": [
    "search_tool = Tool(\n",
    "    name=\"search_tool\",\n",
    "    func= serper.run,\n",
    "    description=\"this tool is for search google\"\n",
    ")"
   ]
  },
  {
   "cell_type": "code",
   "execution_count": 611,
   "id": "d782afae",
   "metadata": {},
   "outputs": [
    {
     "data": {
      "text/plain": [
       "Tool(name='search_tool', description='this tool is for search google', func=<bound method GoogleSerperAPIWrapper.run of GoogleSerperAPIWrapper(k=10, gl='us', hl='en', type='search', result_key_for_type={'news': 'news', 'places': 'places', 'images': 'images', 'search': 'organic'}, tbs=None, serper_api_key='35dbea66013afdf0121d0e8c6d38272ac9b80a56', aiosession=None)>)"
      ]
     },
     "execution_count": 611,
     "metadata": {},
     "output_type": "execute_result"
    }
   ],
   "source": [
    "search_tool"
   ]
  },
  {
   "cell_type": "code",
   "execution_count": 612,
   "id": "0a887844",
   "metadata": {},
   "outputs": [],
   "source": [
    "pushover_token = os.getenv(\"PUSHOVER_TOKEN\")\n",
    "pushover_user = os.getenv(\"PUSHOVER_USER\")\n",
    "pushover_url = \"https://api.pushover.net/1/messages.json\"\n",
    "\n",
    "def push(text: str):\n",
    "    \"\"\"Send a push notification to the user\"\"\"\n",
    "    requests.post(pushover_url, data = {\"token\": pushover_token, \"user\": pushover_user, \"message\": text})"
   ]
  },
  {
   "cell_type": "code",
   "execution_count": 613,
   "id": "12458bfa",
   "metadata": {},
   "outputs": [],
   "source": [
    "puch_tool = Tool(\n",
    "    name=\"push_tool\",\n",
    "    func=push,\n",
    "    description=\"used for push notification\"\n",
    ")"
   ]
  },
  {
   "cell_type": "code",
   "execution_count": 614,
   "id": "a8dee4a1",
   "metadata": {},
   "outputs": [],
   "source": [
    "#puch_tool.invoke(\"hello\")"
   ]
  },
  {
   "cell_type": "code",
   "execution_count": 615,
   "id": "a296c568",
   "metadata": {},
   "outputs": [],
   "source": [
    "new_tools=[search_tool,puch_tool]\n",
    "llm_with_tool = llm.bind_tools(tools=new_tools)\n",
    "graph_builder = StateGraph(State)"
   ]
  },
  {
   "cell_type": "code",
   "execution_count": null,
   "id": "608cb63c",
   "metadata": {},
   "outputs": [],
   "source": [
    "\n",
    "def chatbot(old_state:State) -> State:\n",
    "    print(old_state.messages)\n",
    "    #return {\"messages\": [llm_with_tool.invoke(old_state.messages)]}\n",
    "    response =  llm_with_tool.invoke(old_state[\"messages\"])\n",
    "    print(response)\n",
    "    return State(messages=[response])"
   ]
  },
  {
   "cell_type": "code",
   "execution_count": 617,
   "id": "60a628d1",
   "metadata": {},
   "outputs": [
    {
     "data": {
      "text/plain": [
       "<langgraph.graph.state.StateGraph at 0x1eed52fd6a0>"
      ]
     },
     "execution_count": 617,
     "metadata": {},
     "output_type": "execute_result"
    }
   ],
   "source": [
    "from langgraph.prebuilt import ToolNode,tools_condition\n",
    "graph_builder.add_node(\"chatbot\",chatbot)\n",
    "graph_builder.add_node(\"tools\",ToolNode(tools=new_tools))"
   ]
  },
  {
   "cell_type": "code",
   "execution_count": 618,
   "id": "474890bc",
   "metadata": {},
   "outputs": [
    {
     "data": {
      "text/plain": [
       "<langgraph.graph.state.StateGraph at 0x1eed52fd6a0>"
      ]
     },
     "execution_count": 618,
     "metadata": {},
     "output_type": "execute_result"
    }
   ],
   "source": [
    "graph_builder.add_conditional_edges(\"chatbot\",tools_condition,\"tools\")\n"
   ]
  },
  {
   "cell_type": "code",
   "execution_count": 619,
   "id": "a100087f",
   "metadata": {},
   "outputs": [
    {
     "data": {
      "text/plain": [
       "<langgraph.graph.state.StateGraph at 0x1eed52fd6a0>"
      ]
     },
     "execution_count": 619,
     "metadata": {},
     "output_type": "execute_result"
    }
   ],
   "source": [
    "\n",
    "graph_builder.add_edge(\"tools\",\"chatbot\")\n",
    "graph_builder.add_edge(START,\"chatbot\")\n"
   ]
  },
  {
   "cell_type": "code",
   "execution_count": 620,
   "id": "2eeedbee",
   "metadata": {},
   "outputs": [],
   "source": [
    "graph = graph_builder.compile()"
   ]
  },
  {
   "cell_type": "code",
   "execution_count": 621,
   "id": "95716657",
   "metadata": {},
   "outputs": [
    {
     "data": {
      "image/png": "[encoded data removed]",
      "text/plain": [
       "<IPython.core.display.Image object>"
      ]
     },
     "metadata": {},
     "output_type": "display_data"
    }
   ],
   "source": [
    "try:\n",
    "    png_bytes = graph.get_graph().draw_mermaid_png()\n",
    "    display(Image(data=png_bytes))\n",
    "except Exception as e:\n",
    "    print(\"⚠️ Could not render PNG. Showing Mermaid text only.\")\n",
    "    print(\"Error:\", e)\n"
   ]
  },
  {
   "cell_type": "code",
   "execution_count": 622,
   "id": "76f40c30",
   "metadata": {},
   "outputs": [],
   "source": [
    "def chat(user_input:str,history):\n",
    "    intial_state = State(messages=[{\"role\":\"user\",\"content\":user_input}])\n",
    "    result = graph.invoke(intial_state)\n",
    "    print(result)\n",
    "    return result['messages'][-1].content\n",
    "    "
   ]
  },
  {
   "cell_type": "code",
   "execution_count": null,
   "id": "da2b8cfc",
   "metadata": {},
   "outputs": [
    {
     "name": "stdout",
     "output_type": "stream",
     "text": [
      "* Running on local URL:  http://127.0.0.1:7903\n",
      "* To create a public link, set `share=True` in `launch()`.\n"
     ]
    },
    {
     "data": {
      "text/html": [
       "<div><iframe src=\"http://127.0.0.1:7903/\" width=\"100%\" height=\"500\" allow=\"autoplay; camera; microphone; clipboard-read; clipboard-write;\" frameborder=\"0\" allowfullscreen></iframe></div>"
      ],
      "text/plain": [
       "<IPython.core.display.HTML object>"
      ]
     },
     "metadata": {},
     "output_type": "display_data"
    },
    {
     "data": {
      "text/plain": []
     },
     "execution_count": 623,
     "metadata": {},
     "output_type": "execute_result"
    },
    {
     "name": "stdout",
     "output_type": "stream",
     "text": [
      "[HumanMessage(content='sent notofication todays weather', additional_kwargs={}, response_metadata={}, id='a5e08dd6-f261-44b6-9f58-cd88f922e6f2')]\n",
      "[HumanMessage(content='sent notofication todays weather', additional_kwargs={}, response_metadata={}, id='a5e08dd6-f261-44b6-9f58-cd88f922e6f2'), AIMessage(content='', additional_kwargs={'function_call': {'name': 'push_tool', 'arguments': '{\"__arg1\": \"todays weather\"}'}}, response_metadata={'prompt_feedback': {'block_reason': 0, 'safety_ratings': []}, 'finish_reason': 'STOP', 'safety_ratings': []}, id='run--1a639876-05f9-402a-b1e1-dabbae09b251-0', tool_calls=[{'name': 'push_tool', 'args': {'__arg1': 'todays weather'}, 'id': '8349e4e6-7bce-4290-b302-ab8c448f50fd', 'type': 'tool_call'}], usage_metadata={'input_tokens': 37, 'output_tokens': 9, 'total_tokens': 46, 'input_token_details': {'cache_read': 0}}), ToolMessage(content='null', name='push_tool', id='d05e9a40-f8f6-4176-8c17-8f767eec4f7c', tool_call_id='8349e4e6-7bce-4290-b302-ab8c448f50fd')]\n",
      "{'messages': [HumanMessage(content='sent notofication todays weather', additional_kwargs={}, response_metadata={}, id='a5e08dd6-f261-44b6-9f58-cd88f922e6f2'), AIMessage(content='', additional_kwargs={'function_call': {'name': 'push_tool', 'arguments': '{\"__arg1\": \"todays weather\"}'}}, response_metadata={'prompt_feedback': {'block_reason': 0, 'safety_ratings': []}, 'finish_reason': 'STOP', 'safety_ratings': []}, id='run--1a639876-05f9-402a-b1e1-dabbae09b251-0', tool_calls=[{'name': 'push_tool', 'args': {'__arg1': 'todays weather'}, 'id': '8349e4e6-7bce-4290-b302-ab8c448f50fd', 'type': 'tool_call'}], usage_metadata={'input_tokens': 37, 'output_tokens': 9, 'total_tokens': 46, 'input_token_details': {'cache_read': 0}}), ToolMessage(content='null', name='push_tool', id='d05e9a40-f8f6-4176-8c17-8f767eec4f7c', tool_call_id='8349e4e6-7bce-4290-b302-ab8c448f50fd'), AIMessage(content=\"OK. I've sent a notification about today's weather.\", additional_kwargs={}, response_metadata={'prompt_feedback': {'block_reason': 0, 'safety_ratings': []}, 'finish_reason': 'STOP', 'safety_ratings': []}, id='run--2a121536-99fa-4077-9cd0-77f8f356c330-0', usage_metadata={'input_tokens': 51, 'output_tokens': 15, 'total_tokens': 66, 'input_token_details': {'cache_read': 0}})]}\n",
      "[HumanMessage(content='whats today weather', additional_kwargs={}, response_metadata={}, id='fe9f05cd-b0ca-4dde-bc1d-32a41a4ce707')]\n",
      "{'messages': [HumanMessage(content='whats today weather', additional_kwargs={}, response_metadata={}, id='fe9f05cd-b0ca-4dde-bc1d-32a41a4ce707'), AIMessage(content=\"I'm sorry, I'm unable to retrieve weather information. My current capabilities do not include accessing weather data.\", additional_kwargs={}, response_metadata={'prompt_feedback': {'block_reason': 0, 'safety_ratings': []}, 'finish_reason': 'STOP', 'safety_ratings': []}, id='run--2d5a921b-3723-4c7a-818f-63ae0ef7ada7-0', usage_metadata={'input_tokens': 35, 'output_tokens': 25, 'total_tokens': 60, 'input_token_details': {'cache_read': 0}})]}\n",
      "[HumanMessage(content='today news', additional_kwargs={}, response_metadata={}, id='daab6baa-83bd-463a-9aaa-545b4e00f5f6')]\n",
      "[HumanMessage(content='today news', additional_kwargs={}, response_metadata={}, id='daab6baa-83bd-463a-9aaa-545b4e00f5f6'), AIMessage(content='', additional_kwargs={'function_call': {'name': 'search_tool', 'arguments': '{\"__arg1\": \"today news\"}'}}, response_metadata={'prompt_feedback': {'block_reason': 0, 'safety_ratings': []}, 'finish_reason': 'STOP', 'safety_ratings': []}, id='run--e3e74a12-1e5a-4caf-bcc1-087ac562830a-0', tool_calls=[{'name': 'search_tool', 'args': {'__arg1': 'today news'}, 'id': '5f0ab151-76ea-450d-8226-737d5ac11c4d', 'type': 'tool_call'}], usage_metadata={'input_tokens': 34, 'output_tokens': 8, 'total_tokens': 42, 'input_token_details': {'cache_read': 0}}), ToolMessage(content=\"View the latest news and breaking news today for U.S., world, weather, entertainment, politics and health at CNN.com. Go to NBCNews.com for breaking news, videos, and the latest top stories in world news, business, politics, health and pop culture. ABC News - Breaking News, Latest News and Videos. Trump says he'd consider ... Ex-FBI chief James Comey in court today for arraignment — here's what to expect. Indiana woman reported missing after 'suspicious' fire in her house: Sheriff's office · First wife of Sen. Edward Kennedy has died · IMF chief warns of economic ... Live news, investigations, opinion, photos and video by the journalists of The New York Times from more than 150 countries around the world. The latest news and headlines from Yahoo News. Get breaking news stories and in-depth coverage with videos and photos. Man arrested, accused of starting deadly Palisades fire in California · Russia escalates warning as Trump considers sale of Tomahawks to Ukraine · A storm will ... USA TODAY delivers current national and local news, sports, entertainment, finance, technology, and more through award-winning journalism, photos, ... Read the latest headlines, breaking news, and videos at APNews.com, the definitive source for independent journalism from every corner of the globe. Top U.S. & World Headlines — October 8, 2025 · BREAKING: Arrest made in connection with deadly Palisades fire · Morning News NOW Full Episode – ...\", name='search_tool', id='926254dd-8c98-4c68-9c90-ea79125d5171', tool_call_id='5f0ab151-76ea-450d-8226-737d5ac11c4d')]\n",
      "{'messages': [HumanMessage(content='today news', additional_kwargs={}, response_metadata={}, id='daab6baa-83bd-463a-9aaa-545b4e00f5f6'), AIMessage(content='', additional_kwargs={'function_call': {'name': 'search_tool', 'arguments': '{\"__arg1\": \"today news\"}'}}, response_metadata={'prompt_feedback': {'block_reason': 0, 'safety_ratings': []}, 'finish_reason': 'STOP', 'safety_ratings': []}, id='run--e3e74a12-1e5a-4caf-bcc1-087ac562830a-0', tool_calls=[{'name': 'search_tool', 'args': {'__arg1': 'today news'}, 'id': '5f0ab151-76ea-450d-8226-737d5ac11c4d', 'type': 'tool_call'}], usage_metadata={'input_tokens': 34, 'output_tokens': 8, 'total_tokens': 42, 'input_token_details': {'cache_read': 0}}), ToolMessage(content=\"View the latest news and breaking news today for U.S., world, weather, entertainment, politics and health at CNN.com. Go to NBCNews.com for breaking news, videos, and the latest top stories in world news, business, politics, health and pop culture. ABC News - Breaking News, Latest News and Videos. Trump says he'd consider ... Ex-FBI chief James Comey in court today for arraignment — here's what to expect. Indiana woman reported missing after 'suspicious' fire in her house: Sheriff's office · First wife of Sen. Edward Kennedy has died · IMF chief warns of economic ... Live news, investigations, opinion, photos and video by the journalists of The New York Times from more than 150 countries around the world. The latest news and headlines from Yahoo News. Get breaking news stories and in-depth coverage with videos and photos. Man arrested, accused of starting deadly Palisades fire in California · Russia escalates warning as Trump considers sale of Tomahawks to Ukraine · A storm will ... USA TODAY delivers current national and local news, sports, entertainment, finance, technology, and more through award-winning journalism, photos, ... Read the latest headlines, breaking news, and videos at APNews.com, the definitive source for independent journalism from every corner of the globe. Top U.S. & World Headlines — October 8, 2025 · BREAKING: Arrest made in connection with deadly Palisades fire · Morning News NOW Full Episode – ...\", name='search_tool', id='926254dd-8c98-4c68-9c90-ea79125d5171', tool_call_id='5f0ab151-76ea-450d-8226-737d5ac11c4d'), AIMessage(content='Top U.S. & World Headlines — October 8, 2025: Arrest made in connection with deadly Palisades fire. Russia escalates warning as Trump considers sale of Tomahawks to Ukraine.', additional_kwargs={}, response_metadata={'prompt_feedback': {'block_reason': 0, 'safety_ratings': []}, 'finish_reason': 'STOP', 'safety_ratings': []}, id='run--a3e8f7b2-6819-4556-9f4c-083cbc3475a8-0', usage_metadata={'input_tokens': 356, 'output_tokens': 44, 'total_tokens': 400, 'input_token_details': {'cache_read': 0}})]}\n",
      "[HumanMessage(content='my name is gunjan', additional_kwargs={}, response_metadata={}, id='cbdf3177-635f-48eb-8191-7785cf6b889b')]\n",
      "{'messages': [HumanMessage(content='my name is gunjan', additional_kwargs={}, response_metadata={}, id='cbdf3177-635f-48eb-8191-7785cf6b889b'), AIMessage(content='Okay, Gunjan. How can I help you today?', additional_kwargs={}, response_metadata={'prompt_feedback': {'block_reason': 0, 'safety_ratings': []}, 'finish_reason': 'STOP', 'safety_ratings': []}, id='run--9c1e5f1e-85b1-416b-b913-a7b1229be9ea-0', usage_metadata={'input_tokens': 37, 'output_tokens': 13, 'total_tokens': 50, 'input_token_details': {'cache_read': 0}})]}\n",
      "[HumanMessage(content=\"what's my name\", additional_kwargs={}, response_metadata={}, id='712a6512-2dd4-4767-88bc-d7f4ec680540')]\n",
      "{'messages': [HumanMessage(content=\"what's my name\", additional_kwargs={}, response_metadata={}, id='712a6512-2dd4-4767-88bc-d7f4ec680540'), AIMessage(content=\"I don't have access to that information. I am a language model, not a personal assistant.\", additional_kwargs={}, response_metadata={'prompt_feedback': {'block_reason': 0, 'safety_ratings': []}, 'finish_reason': 'STOP', 'safety_ratings': []}, id='run--90a3146f-afc6-483f-a83c-c32d2b22e614-0', usage_metadata={'input_tokens': 37, 'output_tokens': 22, 'total_tokens': 59, 'input_token_details': {'cache_read': 0}})]}\n"
     ]
    }
   ],
   "source": [
    "gr.ChatInterface(chat,type=\"messages\").launch()"
   ]
  },
  {
   "cell_type": "code",
   "execution_count": null,
   "id": "8aa28f3a",
   "metadata": {},
   "outputs": [],
   "source": []
  }
 ],
 "metadata": {
  "kernelspec": {
   "display_name": "genaifundamentals",
   "language": "python",
   "name": "python3"
  },
  "language_info": {
   "codemirror_mode": {
    "name": "ipython",
    "version": 3
   },
   "file_extension": ".py",
   "mimetype": "text/x-python",
   "name": "python",
   "nbconvert_exporter": "python",
   "pygments_lexer": "ipython3",
   "version": "3.12.11"
  }
 },
 "nbformat": 4,
 "nbformat_minor": 5
}
