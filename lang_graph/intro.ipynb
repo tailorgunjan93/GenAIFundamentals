{
 "cells": [
  {
   "cell_type": "code",
   "execution_count": 171,
   "id": "af354f17",
   "metadata": {},
   "outputs": [],
   "source": [
    "from typing import Annotated\n",
    "from langchain_google_genai import ChatGoogleGenerativeAI\n",
    "import os\n",
    "from dotenv import load_dotenv\n",
    "from langgraph.graph import StateGraph, START, END\n",
    "from langgraph.graph.message import add_messages\n",
    "from dotenv import load_dotenv\n",
    "from IPython.display import Image, display\n",
    "import gradio as gr\n",
    "from langgraph.graph.message import add_messages\n",
    "from pydantic import BaseModel"
   ]
  },
  {
   "cell_type": "code",
   "execution_count": 172,
   "id": "5d30a958",
   "metadata": {},
   "outputs": [
    {
     "name": "stdout",
     "output_type": "stream",
     "text": [
      "HELLO HI THERE!\n"
     ]
    }
   ],
   "source": [
    "#learning use of annotated\n",
    "def first_function(message:Annotated[str,\"Some random message\"])->str:\n",
    "    message = message+\"!\"\n",
    "    return message.upper()\n",
    "\n",
    "newmessage =first_function(\"Hello Hi there\")\n",
    "print(newmessage)\n",
    "\n"
   ]
  },
  {
   "cell_type": "code",
   "execution_count": 173,
   "id": "e8bae567",
   "metadata": {},
   "outputs": [
    {
     "data": {
      "text/plain": [
       "True"
      ]
     },
     "execution_count": 173,
     "metadata": {},
     "output_type": "execute_result"
    }
   ],
   "source": [
    "load_dotenv(override=True)"
   ]
  },
  {
   "cell_type": "code",
   "execution_count": 174,
   "id": "1cdf7418",
   "metadata": {},
   "outputs": [],
   "source": [
    "google_api_key = os.getenv(\"GEMINI_API_KEY\")\n",
    "google_model = \"gemini-2.0-flash\"\n"
   ]
  },
  {
   "cell_type": "code",
   "execution_count": 175,
   "id": "4cc03203",
   "metadata": {},
   "outputs": [],
   "source": [
    "class State(BaseModel):\n",
    "    messages : Annotated[list,\"Here the user input\"]"
   ]
  },
  {
   "cell_type": "code",
   "execution_count": 176,
   "id": "b9ecd132",
   "metadata": {},
   "outputs": [],
   "source": [
    "llm = ChatGoogleGenerativeAI(model=google_model,api_key=google_api_key)"
   ]
  },
  {
   "cell_type": "code",
   "execution_count": 177,
   "id": "93d638bd",
   "metadata": {},
   "outputs": [],
   "source": [
    "def chatbot_node(old_state:State)->State:\n",
    "    response = llm.invoke(old_state.messages)\n",
    "    new_state = State(messages=[response])\n",
    "    return new_state\n",
    "\n"
   ]
  },
  {
   "cell_type": "code",
   "execution_count": 178,
   "id": "03c4cbcd",
   "metadata": {},
   "outputs": [],
   "source": [
    "graph_builder = StateGraph(State)"
   ]
  },
  {
   "cell_type": "code",
   "execution_count": 179,
   "id": "6ea1b053",
   "metadata": {},
   "outputs": [
    {
     "data": {
      "text/plain": [
       "<langgraph.graph.state.StateGraph at 0x222aa0f9220>"
      ]
     },
     "execution_count": 179,
     "metadata": {},
     "output_type": "execute_result"
    }
   ],
   "source": [
    "graph_builder.add_node(\"ChatBot\",chatbot_node)"
   ]
  },
  {
   "cell_type": "code",
   "execution_count": 180,
   "id": "0af3383b",
   "metadata": {},
   "outputs": [
    {
     "data": {
      "text/plain": [
       "<langgraph.graph.state.StateGraph at 0x222aa0f9220>"
      ]
     },
     "execution_count": 180,
     "metadata": {},
     "output_type": "execute_result"
    }
   ],
   "source": [
    "graph_builder.add_edge(START,\"ChatBot\")\n",
    "graph_builder.add_edge(\"ChatBot\",END)"
   ]
  },
  {
   "cell_type": "code",
   "execution_count": 181,
   "id": "72494b60",
   "metadata": {},
   "outputs": [],
   "source": [
    "graph = graph_builder.compile()"
   ]
  },
  {
   "cell_type": "code",
   "execution_count": 182,
   "id": "2b265f00",
   "metadata": {},
   "outputs": [
    {
     "data": {
      "image/png": "[encoded data removed]",
      "text/plain": [
       "<IPython.core.display.Image object>"
      ]
     },
     "metadata": {},
     "output_type": "display_data"
    }
   ],
   "source": [
    "display(Image(graph.get_graph().draw_mermaid_png()))"
   ]
  },
  {
   "cell_type": "code",
   "execution_count": 183,
   "id": "c7f2bc30",
   "metadata": {},
   "outputs": [],
   "source": [
    "def chat(user_input:str,history):\n",
    "    initial_state = State(messages=[{\"role\":\"user\",\"content\":user_input}])\n",
    "    result = graph.invoke(initial_state)\n",
    "    print(result)\n",
    "\n",
    "    return result['messages'][0].content"
   ]
  },
  {
   "cell_type": "code",
   "execution_count": 184,
   "id": "2603e36d",
   "metadata": {},
   "outputs": [
    {
     "name": "stdout",
     "output_type": "stream",
     "text": [
      "* Running on local URL:  http://127.0.0.1:7884\n",
      "* To create a public link, set `share=True` in `launch()`.\n"
     ]
    },
    {
     "data": {
      "text/html": [
       "<div><iframe src=\"http://127.0.0.1:7884/\" width=\"100%\" height=\"500\" allow=\"autoplay; camera; microphone; clipboard-read; clipboard-write;\" frameborder=\"0\" allowfullscreen></iframe></div>"
      ],
      "text/plain": [
       "<IPython.core.display.HTML object>"
      ]
     },
     "metadata": {},
     "output_type": "display_data"
    },
    {
     "data": {
      "text/plain": []
     },
     "execution_count": 184,
     "metadata": {},
     "output_type": "execute_result"
    }
   ],
   "source": [
    "\n",
    "gr.ChatInterface(chat,type=\"messages\").launch()"
   ]
  },
  {
   "cell_type": "code",
   "execution_count": 185,
   "id": "f1293ebd",
   "metadata": {},
   "outputs": [],
   "source": [
    "from langchain_community.utilities import GoogleSerperAPIWrapper"
   ]
  },
  {
   "cell_type": "code",
   "execution_count": 186,
   "id": "6cbad1b6",
   "metadata": {},
   "outputs": [
    {
     "data": {
      "text/plain": [
       "\"The price of gold in India today is ₹12,393 per gram for 24 karat gold, ₹11,360 per gram for 22 karat gold and ₹9,295 per gram for 18 karat gold (also ... The Holdings Calculator permits you to calculate the current value of your gold and silver. Enter a number Amount in the left text field. Select Ounce, Gram ... Check today's gold rate in India and also get current 22 & 24 Carat gold price for 1 grams to 10 grams in india along with historical price trends at Groww. Gold Price in India · 24 Carat Gold Rate (10 grams). ₹ 1,21,800 +1,860 (+1.55%) · 22 Carat Gold Rate (10 grams). ₹ 1,11,570 +1,860 (+1.55%). Gold Rate Today (as on 08-10, 2025) · 24 Karat Gold (999 purity) : ₹12,210 per gram · 22 Karat Gold (91.6% purity) : ₹11,203 per gram. 22 Carat Gold Rate (Today & Yesterday) ; 1 Gram, ₹ 11,335, ₹ 11,230 ; 10 Gram, ₹ 113,350, ₹ 112,300 ; 100 Gram, ₹ 1,133,500, ₹ 1,123,000 ... Gold Rate Today - Get live 22, 24 CT gold price today in India per 1 gram, 8 gram, 10 gram & 100 gram. Also, check out the Gold price in the last 10 Days on ... Gold prices today ; Indian Rupee (INR), 0.89, ₹356,726.00, ₹11,469,007.22, ₹11,469.01 ; Japanese Yen (JPY), 1.21, ¥612,567.00, ¥19,694,486.37, ¥19,694.49 ... Today Gold Rate (08 October 2025) : Get Current / Today's 22 Carat & 24 Carat Gold Price in India based on rupee per 1 gram & 10 gram. 22 carat (Gold 916) gold rate today is Rs 110,880 for 10 grams and Rs 11,088 for 1 gram. The price of 18 carat (Gold 750) is Rs 90,720 per 10 grams and Rs 9,072 ...\""
      ]
     },
     "execution_count": 186,
     "metadata": {},
     "output_type": "execute_result"
    }
   ],
   "source": [
    "serper = GoogleSerperAPIWrapper()\n",
    "serper.run(\"whats gold rate today in rupees\")"
   ]
  },
  {
   "cell_type": "code",
   "execution_count": 187,
   "id": "e70d4992",
   "metadata": {},
   "outputs": [],
   "source": [
    "from langchain.agents import Tool\n",
    "search_tool= Tool(\n",
    "    name=\"search\",\n",
    "    func=serper.run,\n",
    "    description=\"this is for searching\"\n",
    ")"
   ]
  },
  {
   "cell_type": "code",
   "execution_count": 188,
   "id": "e2b4f4ff",
   "metadata": {},
   "outputs": [
    {
     "data": {
      "text/plain": [
       "'View the latest news and breaking news today for U.S., world, weather, entertainment, politics and health at CNN.com. Illinois Gov. JB Pritzker listens as Chicago Mayor Brandon Johnson speaks on Oct. 6. Illinois leaders condemn \\'unconstitutional invasion\\' of National Guard. Read full articles, watch videos, browse thousands of titles and more on the \"Home page\" topic with Google News. Latest Breaking News Today from Fox News · Former FBI chief pleads not guilty after explosive grand jury investigation · Social media erupts after top Dem ... Trump said ICE would target \\'criminals.\\' · 3 scientists win Nobel Prize in chemistry for developing \\'Hermione\\'s handbag\\' materials · Bourbon suffers \\'significant ... Your trusted source for breaking news, analysis, exclusive interviews, headlines, and videos at ABCNews.com. Senate holds more votes on Day 8 of government shutdown · Ex-FBI chief James Comey pleads not guilty to charges of lying to Congress · Florida man arrested for ... Read the latest headlines, breaking news, and videos at APNews.com, the definitive source for independent journalism from every corner of the globe. White House hits back at \\'SNL\\' over sketch... Laura Loomer loses Supreme Court bid to sue... More Americans blame Trump, Republicans ... James B. Comey will make his first court appearance in a case that has become a focus of concern about pressure by President Trump to prosecute opponents. By ...'"
      ]
     },
     "execution_count": 188,
     "metadata": {},
     "output_type": "execute_result"
    }
   ],
   "source": [
    "search_tool.invoke(\"today's latest news\")"
   ]
  },
  {
   "cell_type": "code",
   "execution_count": null,
   "id": "c5355878",
   "metadata": {},
   "outputs": [],
   "source": []
  }
 ],
 "metadata": {
  "kernelspec": {
   "display_name": "genaifundamentals",
   "language": "python",
   "name": "python3"
  },
  "language_info": {
   "codemirror_mode": {
    "name": "ipython",
    "version": 3
   },
   "file_extension": ".py",
   "mimetype": "text/x-python",
   "name": "python",
   "nbconvert_exporter": "python",
   "pygments_lexer": "ipython3",
   "version": "3.12.11"
  }
 },
 "nbformat": 4,
 "nbformat_minor": 5
}
