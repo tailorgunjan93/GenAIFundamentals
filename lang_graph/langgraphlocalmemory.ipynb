{
 "cells": [
  {
   "cell_type": "code",
   "execution_count": 192,
   "id": "9dfae3c9",
   "metadata": {},
   "outputs": [],
   "source": [
    "#importing python libraries\n",
    "from pydantic import BaseModel\n",
    "import os\n",
    "from dotenv import load_dotenv\n",
    "from typing import Annotated\n",
    "from IPython.display import display,Image\n",
    "import requests\n",
    "import gradio as gr"
   ]
  },
  {
   "cell_type": "code",
   "execution_count": 193,
   "id": "abe2ddc5",
   "metadata": {},
   "outputs": [],
   "source": [
    "#importing AI libraries\n",
    "from langgraph.graph import StateGraph,add_messages\n",
    "from langchain_community.utilities import GoogleSerperAPIWrapper\n",
    "from langgraph.prebuilt import tools_condition,ToolNode\n",
    "from langchain_google_genai import ChatGoogleGenerativeAI\n",
    "from langgraph.graph import START,END\n",
    "from langchain.agents import Tool\n",
    "from langgraph.checkpoint.memory import MemorySaver\n"
   ]
  },
  {
   "cell_type": "code",
   "execution_count": 194,
   "id": "0d1b0907",
   "metadata": {},
   "outputs": [
    {
     "data": {
      "text/plain": [
       "True"
      ]
     },
     "execution_count": 194,
     "metadata": {},
     "output_type": "execute_result"
    }
   ],
   "source": [
    "gemini_model=\"gemini-2.0-flash\"\n",
    "load_dotenv(override=True)"
   ]
  },
  {
   "cell_type": "code",
   "execution_count": 195,
   "id": "966d3e5a",
   "metadata": {},
   "outputs": [],
   "source": [
    "gemini_api_key = os.getenv(\"GEMINI_API_KEY\")"
   ]
  },
  {
   "cell_type": "code",
   "execution_count": 196,
   "id": "8e4681b8",
   "metadata": {},
   "outputs": [],
   "source": [
    "memory =MemorySaver()\n",
    "llm = ChatGoogleGenerativeAI(model=gemini_model,api_key=gemini_api_key)\n",
    "serper = GoogleSerperAPIWrapper()"
   ]
  },
  {
   "cell_type": "code",
   "execution_count": 197,
   "id": "089b8372",
   "metadata": {},
   "outputs": [],
   "source": [
    "class State(BaseModel):\n",
    "    messages : Annotated[list,add_messages]"
   ]
  },
  {
   "cell_type": "code",
   "execution_count": 198,
   "id": "3d5bd1dd",
   "metadata": {},
   "outputs": [],
   "source": [
    "search_tool = Tool(\n",
    "    name=\"SearchTool\",\n",
    "    func=serper.run,\n",
    "    description=\"this is for searching info\"\n",
    ")"
   ]
  },
  {
   "cell_type": "code",
   "execution_count": 199,
   "id": "82c1ba28",
   "metadata": {},
   "outputs": [],
   "source": [
    "tools=[search_tool]"
   ]
  },
  {
   "cell_type": "code",
   "execution_count": 200,
   "id": "ca5a494e",
   "metadata": {},
   "outputs": [],
   "source": [
    "llm_as_tools = llm.bind_tools(tools)"
   ]
  },
  {
   "cell_type": "code",
   "execution_count": 201,
   "id": "d669dfef",
   "metadata": {},
   "outputs": [],
   "source": [
    "graph_builder = StateGraph(State)"
   ]
  },
  {
   "cell_type": "code",
   "execution_count": 202,
   "id": "b3f97bdd",
   "metadata": {},
   "outputs": [],
   "source": [
    "def chatbot(state:State)->State:\n",
    "    result = llm_as_tools.invoke(state.messages)\n",
    "    return State(messages=[result])"
   ]
  },
  {
   "cell_type": "code",
   "execution_count": 203,
   "id": "1fd07b62",
   "metadata": {},
   "outputs": [
    {
     "data": {
      "text/plain": [
       "<langgraph.graph.state.StateGraph at 0x2528dbc6ea0>"
      ]
     },
     "execution_count": 203,
     "metadata": {},
     "output_type": "execute_result"
    }
   ],
   "source": [
    "graph_builder.add_node(\"ChatBot\",chatbot)\n",
    "graph_builder.add_node(\"tools\",ToolNode(tools))"
   ]
  },
  {
   "cell_type": "code",
   "execution_count": 204,
   "id": "6ad6fe97",
   "metadata": {},
   "outputs": [
    {
     "data": {
      "text/plain": [
       "<langgraph.graph.state.StateGraph at 0x2528dbc6ea0>"
      ]
     },
     "execution_count": 204,
     "metadata": {},
     "output_type": "execute_result"
    }
   ],
   "source": [
    "graph_builder.add_conditional_edges(\"ChatBot\",tools_condition,\"tools\")"
   ]
  },
  {
   "cell_type": "code",
   "execution_count": 205,
   "id": "ae2ec41c",
   "metadata": {},
   "outputs": [
    {
     "data": {
      "text/plain": [
       "<langgraph.graph.state.StateGraph at 0x2528dbc6ea0>"
      ]
     },
     "execution_count": 205,
     "metadata": {},
     "output_type": "execute_result"
    }
   ],
   "source": [
    "graph_builder.add_edge(\"tools\",\"ChatBot\")\n",
    "graph_builder.add_edge(START,\"ChatBot\")"
   ]
  },
  {
   "cell_type": "code",
   "execution_count": 206,
   "id": "49fabf5a",
   "metadata": {},
   "outputs": [],
   "source": [
    "graph = graph_builder.compile(checkpointer=memory)"
   ]
  },
  {
   "cell_type": "code",
   "execution_count": 207,
   "id": "6eaf04c5",
   "metadata": {},
   "outputs": [
    {
     "data": {
      "image/png": "[encoded data removed]",
      "text/plain": [
       "<IPython.core.display.Image object>"
      ]
     },
     "metadata": {},
     "output_type": "display_data"
    }
   ],
   "source": [
    "display(Image(graph.get_graph().draw_mermaid_png()))"
   ]
  },
  {
   "cell_type": "code",
   "execution_count": 208,
   "id": "c0e69569",
   "metadata": {},
   "outputs": [],
   "source": [
    "config = {\"configurable\": {\"thread_id\": \"1\"}}\n",
    "\n",
    "def chat(user_input,history):\n",
    "    result = graph.invoke(State(messages=[{\"role\":\"user\",\"content\":user_input}]),config=config)\n",
    "    return result['messages'][-1].content"
   ]
  },
  {
   "cell_type": "markdown",
   "id": "e64f7f1e",
   "metadata": {},
   "source": []
  },
  {
   "cell_type": "code",
   "execution_count": 209,
   "id": "f4750980",
   "metadata": {},
   "outputs": [
    {
     "name": "stdout",
     "output_type": "stream",
     "text": [
      "* Running on local URL:  http://127.0.0.1:7909\n",
      "* To create a public link, set `share=True` in `launch()`.\n"
     ]
    },
    {
     "data": {
      "text/html": [
       "<div><iframe src=\"http://127.0.0.1:7909/\" width=\"100%\" height=\"500\" allow=\"autoplay; camera; microphone; clipboard-read; clipboard-write;\" frameborder=\"0\" allowfullscreen></iframe></div>"
      ],
      "text/plain": [
       "<IPython.core.display.HTML object>"
      ]
     },
     "metadata": {},
     "output_type": "display_data"
    },
    {
     "data": {
      "text/plain": []
     },
     "execution_count": 209,
     "metadata": {},
     "output_type": "execute_result"
    }
   ],
   "source": [
    "gr.ChatInterface(chat,type=\"messages\").launch()"
   ]
  },
  {
   "cell_type": "code",
   "execution_count": 211,
   "id": "c79fc1d1",
   "metadata": {},
   "outputs": [
    {
     "data": {
      "text/plain": [
       "StateSnapshot(values={'messages': [HumanMessage(content='whats my name', additional_kwargs={}, response_metadata={}, id='5a5b64dd-8ef7-44dc-9d07-b7930c2e5780'), AIMessage(content='I do not have access to that information. I am a language model.', additional_kwargs={}, response_metadata={'prompt_feedback': {'block_reason': 0, 'safety_ratings': []}, 'finish_reason': 'STOP', 'safety_ratings': []}, id='run--d6da3dcb-911e-4660-82df-5a50c2b2988e-0', usage_metadata={'input_tokens': 18, 'output_tokens': 16, 'total_tokens': 34, 'input_token_details': {'cache_read': 0}})]}, next=(), config={'configurable': {'thread_id': '1', 'checkpoint_ns': '', 'checkpoint_id': '1f0a47c8-731f-653f-8001-63d659f41e99'}}, metadata={'source': 'loop', 'step': 1, 'parents': {}}, created_at='2025-10-08T19:25:19.958355+00:00', parent_config={'configurable': {'thread_id': '1', 'checkpoint_ns': '', 'checkpoint_id': '1f0a47c8-6334-6418-8000-ae44d1d09b94'}}, tasks=(), interrupts=())"
      ]
     },
     "execution_count": 211,
     "metadata": {},
     "output_type": "execute_result"
    }
   ],
   "source": [
    "graph.get_state(config)"
   ]
  },
  {
   "cell_type": "code",
   "execution_count": 213,
   "id": "0e0c973d",
   "metadata": {},
   "outputs": [
    {
     "data": {
      "text/plain": [
       "[StateSnapshot(values={'messages': [HumanMessage(content='whats my name', additional_kwargs={}, response_metadata={}, id='5a5b64dd-8ef7-44dc-9d07-b7930c2e5780'), AIMessage(content='I do not have access to that information. I am a language model.', additional_kwargs={}, response_metadata={'prompt_feedback': {'block_reason': 0, 'safety_ratings': []}, 'finish_reason': 'STOP', 'safety_ratings': []}, id='run--d6da3dcb-911e-4660-82df-5a50c2b2988e-0', usage_metadata={'input_tokens': 18, 'output_tokens': 16, 'total_tokens': 34, 'input_token_details': {'cache_read': 0}})]}, next=(), config={'configurable': {'thread_id': '1', 'checkpoint_ns': '', 'checkpoint_id': '1f0a47c8-731f-653f-8001-63d659f41e99'}}, metadata={'source': 'loop', 'step': 1, 'parents': {}}, created_at='2025-10-08T19:25:19.958355+00:00', parent_config={'configurable': {'thread_id': '1', 'checkpoint_ns': '', 'checkpoint_id': '1f0a47c8-6334-6418-8000-ae44d1d09b94'}}, tasks=(), interrupts=()),\n",
       " StateSnapshot(values={'messages': [HumanMessage(content='whats my name', additional_kwargs={}, response_metadata={}, id='5a5b64dd-8ef7-44dc-9d07-b7930c2e5780')]}, next=('ChatBot',), config={'configurable': {'thread_id': '1', 'checkpoint_ns': '', 'checkpoint_id': '1f0a47c8-6334-6418-8000-ae44d1d09b94'}}, metadata={'source': 'loop', 'step': 0, 'parents': {}}, created_at='2025-10-08T19:25:18.289205+00:00', parent_config={'configurable': {'thread_id': '1', 'checkpoint_ns': '', 'checkpoint_id': '1f0a47c8-632f-6549-bfff-eea8b101bb3c'}}, tasks=(PregelTask(id='0884e197-8506-9458-5a09-c85aa3bbf0d8', name='ChatBot', path=('__pregel_pull', 'ChatBot'), error=None, interrupts=(), state=None, result={'messages': [AIMessage(content='I do not have access to that information. I am a language model.', additional_kwargs={}, response_metadata={'prompt_feedback': {'block_reason': 0, 'safety_ratings': []}, 'finish_reason': 'STOP', 'safety_ratings': []}, id='run--d6da3dcb-911e-4660-82df-5a50c2b2988e-0', usage_metadata={'input_tokens': 18, 'output_tokens': 16, 'total_tokens': 34, 'input_token_details': {'cache_read': 0}})]}),), interrupts=()),\n",
       " StateSnapshot(values={'messages': []}, next=('__start__',), config={'configurable': {'thread_id': '1', 'checkpoint_ns': '', 'checkpoint_id': '1f0a47c8-632f-6549-bfff-eea8b101bb3c'}}, metadata={'source': 'input', 'step': -1, 'parents': {}}, created_at='2025-10-08T19:25:18.287188+00:00', parent_config=None, tasks=(PregelTask(id='75e13f44-08c4-7090-29f2-f0aba14953e5', name='__start__', path=('__pregel_pull', '__start__'), error=None, interrupts=(), state=None, result={'messages': [{'role': 'user', 'content': 'whats my name'}]}),), interrupts=())]"
      ]
     },
     "execution_count": 213,
     "metadata": {},
     "output_type": "execute_result"
    }
   ],
   "source": [
    "list(graph.get_state_history(config))"
   ]
  },
  {
   "cell_type": "code",
   "execution_count": null,
   "id": "5dbc2d39",
   "metadata": {},
   "outputs": [],
   "source": []
  }
 ],
 "metadata": {
  "kernelspec": {
   "display_name": "genaifundamentals",
   "language": "python",
   "name": "python3"
  },
  "language_info": {
   "codemirror_mode": {
    "name": "ipython",
    "version": 3
   },
   "file_extension": ".py",
   "mimetype": "text/x-python",
   "name": "python",
   "nbconvert_exporter": "python",
   "pygments_lexer": "ipython3",
   "version": "3.12.11"
  }
 },
 "nbformat": 4,
 "nbformat_minor": 5
}
