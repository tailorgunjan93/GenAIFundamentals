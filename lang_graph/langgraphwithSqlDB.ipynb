{
 "cells": [
  {
   "cell_type": "code",
   "execution_count": 239,
   "id": "27e9131f",
   "metadata": {},
   "outputs": [],
   "source": [
    "#importing python libraries\n",
    "from pydantic import Field,BaseModel\n",
    "from typing import Annotated\n",
    "from IPython.display import display,Image\n",
    "from dotenv import load_dotenv\n",
    "import os\n",
    "import gradio as gr\n",
    "import sqlite3"
   ]
  },
  {
   "cell_type": "code",
   "execution_count": 240,
   "id": "c51922d5",
   "metadata": {},
   "outputs": [],
   "source": [
    "#importing langchain,langgraph\n",
    "from langgraph.graph import StateGraph,START,END,add_messages\n",
    "from langchain_google_genai import ChatGoogleGenerativeAI\n",
    "from langchain_community.utilities import GoogleSerperAPIWrapper\n",
    "from langgraph.prebuilt import tools_condition,ToolNode\n",
    "from langchain.agents import Tool\n",
    "from langgraph.checkpoint.sqlite import SqliteSaver\n",
    "\n"
   ]
  },
  {
   "cell_type": "code",
   "execution_count": 241,
   "id": "1786af4e",
   "metadata": {},
   "outputs": [],
   "source": [
    "dbpath = './memory/memory.db'\n",
    "dbconn = sqlite3.connect(dbpath,check_same_thread=False)\n",
    "sql_memory = SqliteSaver(dbconn)"
   ]
  },
  {
   "cell_type": "code",
   "execution_count": 242,
   "id": "e0b52de5",
   "metadata": {},
   "outputs": [],
   "source": [
    "gemini_model = google_model = \"gemini-2.0-flash\""
   ]
  },
  {
   "cell_type": "code",
   "execution_count": 243,
   "id": "beafa7f9",
   "metadata": {},
   "outputs": [
    {
     "data": {
      "text/plain": [
       "True"
      ]
     },
     "execution_count": 243,
     "metadata": {},
     "output_type": "execute_result"
    }
   ],
   "source": [
    "load_dotenv(override=True)"
   ]
  },
  {
   "cell_type": "code",
   "execution_count": 244,
   "id": "dec1e5df",
   "metadata": {},
   "outputs": [],
   "source": [
    "gemini_api_key = os.getenv(\"GEMINI_API_KEY\")\n"
   ]
  },
  {
   "cell_type": "code",
   "execution_count": 245,
   "id": "71efa2ea",
   "metadata": {},
   "outputs": [],
   "source": [
    "serper = GoogleSerperAPIWrapper()"
   ]
  },
  {
   "cell_type": "code",
   "execution_count": 246,
   "id": "7020c584",
   "metadata": {},
   "outputs": [],
   "source": [
    "class State(BaseModel):\n",
    "    messages : Annotated[list,add_messages]"
   ]
  },
  {
   "cell_type": "code",
   "execution_count": 247,
   "id": "f22e413b",
   "metadata": {},
   "outputs": [],
   "source": [
    "search_tool =Tool(\n",
    "    name=\"searchTool\",\n",
    "    func=serper.run,\n",
    "    description=\"searching\"\n",
    ")"
   ]
  },
  {
   "cell_type": "code",
   "execution_count": 248,
   "id": "ae4f8bd9",
   "metadata": {},
   "outputs": [],
   "source": [
    "tools = [search_tool]"
   ]
  },
  {
   "cell_type": "code",
   "execution_count": 249,
   "id": "394792dc",
   "metadata": {},
   "outputs": [],
   "source": [
    "graph_builder = StateGraph(State)"
   ]
  },
  {
   "cell_type": "code",
   "execution_count": 250,
   "id": "c7476e0e",
   "metadata": {},
   "outputs": [],
   "source": [
    "llm = ChatGoogleGenerativeAI(api_key=gemini_api_key,model=gemini_model)\n",
    "tools = [search_tool]\n",
    "llm_as_tool = llm.bind_tools(tools=tools)"
   ]
  },
  {
   "cell_type": "code",
   "execution_count": 251,
   "id": "02dfb63c",
   "metadata": {},
   "outputs": [],
   "source": [
    "def chat_bot(state:State)->State:\n",
    "    result= llm_as_tool.invoke(state.messages)\n",
    "    return State(messages=[result])\n",
    "\n"
   ]
  },
  {
   "cell_type": "code",
   "execution_count": 252,
   "id": "729c3a3c",
   "metadata": {},
   "outputs": [
    {
     "data": {
      "text/plain": [
       "<langgraph.graph.state.StateGraph at 0x1ca36bf26f0>"
      ]
     },
     "execution_count": 252,
     "metadata": {},
     "output_type": "execute_result"
    }
   ],
   "source": [
    "graph_builder.add_node(\"chatbot\",chat_bot)\n",
    "graph_builder.add_node(\"tools\",ToolNode(tools=tools))"
   ]
  },
  {
   "cell_type": "code",
   "execution_count": 253,
   "id": "a4571a5c",
   "metadata": {},
   "outputs": [
    {
     "data": {
      "text/plain": [
       "<langgraph.graph.state.StateGraph at 0x1ca36bf26f0>"
      ]
     },
     "execution_count": 253,
     "metadata": {},
     "output_type": "execute_result"
    }
   ],
   "source": [
    "graph_builder.add_conditional_edges(\"chatbot\",tools_condition,\"tools\")\n",
    "graph_builder.add_edge(\"tools\",\"chatbot\")\n",
    "graph_builder.add_edge(START,\"chatbot\")"
   ]
  },
  {
   "cell_type": "code",
   "execution_count": 254,
   "id": "c4c2bf5d",
   "metadata": {},
   "outputs": [],
   "source": [
    "graph = graph_builder.compile(checkpointer=sql_memory)"
   ]
  },
  {
   "cell_type": "code",
   "execution_count": 255,
   "id": "792f9437",
   "metadata": {},
   "outputs": [
    {
     "name": "stdout",
     "output_type": "stream",
     "text": [
      "⚠️ Could not render PNG. Showing Mermaid text only.\n",
      "Error: Failed to reach https://mermaid.ink/ API while trying to render your graph. Status code: 204.\n",
      "\n",
      "To resolve this issue:\n",
      "1. Check your internet connection and try again\n",
      "2. Try with higher retry settings: `draw_mermaid_png(..., max_retries=5, retry_delay=2.0)`\n",
      "3. Use the Pyppeteer rendering method which will render your graph locally in a browser: `draw_mermaid_png(..., draw_method=MermaidDrawMethod.PYPPETEER)`\n"
     ]
    }
   ],
   "source": [
    "try:\n",
    "    png_bytes = graph.get_graph().draw_mermaid_png()\n",
    "    display(Image(data=png_bytes))\n",
    "except Exception as e:\n",
    "    print(\"⚠️ Could not render PNG. Showing Mermaid text only.\")\n",
    "    print(\"Error:\", e)\n"
   ]
  },
  {
   "cell_type": "code",
   "execution_count": 256,
   "id": "497e1676",
   "metadata": {},
   "outputs": [],
   "source": [
    "config = {\"configurable\":{\"thread_id\":\"1\"}}\n",
    "def chat(user_input,history):\n",
    "    result = graph.invoke(State(messages=[{\"role\":\"user\",\"content\":user_input}]),config=config)\n",
    "    return result[\"messages\"][-1].content"
   ]
  },
  {
   "cell_type": "code",
   "execution_count": 257,
   "id": "a8345fa4",
   "metadata": {},
   "outputs": [
    {
     "name": "stdout",
     "output_type": "stream",
     "text": [
      "* Running on local URL:  http://127.0.0.1:7917\n",
      "* To create a public link, set `share=True` in `launch()`.\n"
     ]
    },
    {
     "data": {
      "text/html": [
       "<div><iframe src=\"http://127.0.0.1:7917/\" width=\"100%\" height=\"500\" allow=\"autoplay; camera; microphone; clipboard-read; clipboard-write;\" frameborder=\"0\" allowfullscreen></iframe></div>"
      ],
      "text/plain": [
       "<IPython.core.display.HTML object>"
      ]
     },
     "metadata": {},
     "output_type": "display_data"
    },
    {
     "data": {
      "text/plain": []
     },
     "execution_count": 257,
     "metadata": {},
     "output_type": "execute_result"
    }
   ],
   "source": [
    "gr.ChatInterface(chat,type=\"messages\").launch()"
   ]
  },
  {
   "cell_type": "code",
   "execution_count": null,
   "id": "53b547a8",
   "metadata": {},
   "outputs": [],
   "source": []
  }
 ],
 "metadata": {
  "kernelspec": {
   "display_name": "genaifundamentals",
   "language": "python",
   "name": "python3"
  },
  "language_info": {
   "codemirror_mode": {
    "name": "ipython",
    "version": 3
   },
   "file_extension": ".py",
   "mimetype": "text/x-python",
   "name": "python",
   "nbconvert_exporter": "python",
   "pygments_lexer": "ipython3",
   "version": "3.12.11"
  }
 },
 "nbformat": 4,
 "nbformat_minor": 5
}
