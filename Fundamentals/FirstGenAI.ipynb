{
 "cells": [
  {
   "cell_type": "code",
   "execution_count": 85,
   "id": "05a1b4fb",
   "metadata": {
    "vscode": {
     "languageId": "markdown"
    }
   },
   "outputs": [
    {
     "data": {
      "text/markdown": [
       "\n",
       "# 🌟 GenAI Learning Experience\n",
       "\n",
       "Welcome to your **first Generative AI (GenAI) learning notebook**!  \n",
       "This notebook is designed to help you explore and experiment with GenAI concepts in an interactive way.\n",
       "\n",
       "---\n",
       "\n",
       "![GenAI Illustration](https://images.unsplash.com/photo-1506744038136-46273834b3fb?auto=format&fit=crop&w=800&q=80)\n",
       "\n",
       "---\n",
       "\n",
       "## 🚀 What you'll find here:\n",
       "- Hands-on code examples\n",
       "- Step-by-step explanations\n",
       "- Visualizations and insights\n",
       "\n",
       "Let's start your GenAI journey!  \n",
       "*Happy Learning!* 🎉\n"
      ],
      "text/plain": [
       "<IPython.core.display.Markdown object>"
      ]
     },
     "metadata": {},
     "output_type": "display_data"
    }
   ],
   "source": [
    "from IPython.display import display, Markdown\n",
    "\n",
    "readme_content = \"\"\"\n",
    "# 🌟 GenAI Learning Experience\n",
    "\n",
    "Welcome to your **first Generative AI (GenAI) learning notebook**!  \n",
    "This notebook is designed to help you explore and experiment with GenAI concepts in an interactive way.\n",
    "\n",
    "---\n",
    "\n",
    "![GenAI Illustration](https://images.unsplash.com/photo-1506744038136-46273834b3fb?auto=format&fit=crop&w=800&q=80)\n",
    "\n",
    "---\n",
    "\n",
    "## 🚀 What you'll find here:\n",
    "- Hands-on code examples\n",
    "- Step-by-step explanations\n",
    "- Visualizations and insights\n",
    "\n",
    "Let's start your GenAI journey!  \n",
    "*Happy Learning!* 🎉\n",
    "\"\"\"\n",
    "\n",
    "display(Markdown(readme_content))"
   ]
  },
  {
   "cell_type": "code",
   "execution_count": 2,
   "id": "6be1080a",
   "metadata": {},
   "outputs": [
    {
     "data": {
      "text/markdown": [
       "## 🧑‍💻 Let's Start with GenAI!\n",
       "\n",
       "Below you'll find your first GenAI code example."
      ],
      "text/plain": [
       "<IPython.core.display.Markdown object>"
      ]
     },
     "metadata": {},
     "output_type": "display_data"
    }
   ],
   "source": [
    "display(Markdown(\"## 🧑‍💻 Let's Start with GenAI!\\n\\nBelow you'll find your first GenAI code example.\"))"
   ]
  },
  {
   "cell_type": "code",
   "execution_count": 86,
   "id": "5f5e786a",
   "metadata": {},
   "outputs": [],
   "source": [
    "# Import required libraries and configuration\n",
    "import dotenv  # For loading environment variables from .env file\n",
    "from openai import OpenAI  # OpenAI client for GenAI API\n",
    "import os  # For accessing environment variables\n",
    "import config  # Custom config file for model names and endpoints"
   ]
  },
  {
   "cell_type": "code",
   "execution_count": 87,
   "id": "4772b738",
   "metadata": {},
   "outputs": [
    {
     "name": "stdout",
     "output_type": "stream",
     "text": [
      "gemini-1.5-turbo\n",
      "gemini-2.0-flash\n",
      "https://generativelanguage.googleapis.com/v1beta/openai/\n"
     ]
    }
   ],
   "source": [
    "print(config.GEMINI_TURBO_MODEL_NAME)\n",
    "print(config.GEMINI_FLASH_MODEL_NAME)\n",
    "print(config.GEMINI_URL_OPEN_AI)"
   ]
  },
  {
   "cell_type": "code",
   "execution_count": 88,
   "id": "3aa674a0",
   "metadata": {},
   "outputs": [],
   "source": [
    "# Load environment variables from .env file\n",
    "dotenv.load_dotenv(override=True)\n",
    "gemini_api_key = os.getenv(\"GEMINI_API_KEY\")  # Get your API key from environment\n",
    "# Print to verify the key is loaded (do not share this key!)"
   ]
  },
  {
   "cell_type": "code",
   "execution_count": 89,
   "id": "79167de3",
   "metadata": {},
   "outputs": [],
   "source": [
    "# Prepare a user message for the GenAI chat model\n",
    "message = [{\"role\": \"user\", \"content\": \"hello, how are you?\"}]"
   ]
  },
  {
   "cell_type": "code",
   "execution_count": 90,
   "id": "194ffadc",
   "metadata": {},
   "outputs": [],
   "source": [
    "# Initialize the OpenAI client with your API key and endpoint\n",
    "gen_ai = OpenAI(api_key=gemini_api_key, base_url=config.GEMINI_URL_OPEN_AI)"
   ]
  },
  {
   "cell_type": "code",
   "execution_count": 91,
   "id": "f6b91f5f",
   "metadata": {},
   "outputs": [],
   "source": [
    "# Send the message to the GenAI chat model and get a response\n",
    "response = gen_ai.chat.completions.create(\n",
    "    model=\"gemini-2.0-flash\",  # Use a valid model name as per your API provider\n",
    "    messages=message\n",
    ")"
   ]
  },
  {
   "cell_type": "code",
   "execution_count": 92,
   "id": "6a37d0aa",
   "metadata": {},
   "outputs": [
    {
     "name": "stdout",
     "output_type": "stream",
     "text": [
      "I am doing well, thank you for asking! How are you today?\n",
      "\n"
     ]
    }
   ],
   "source": [
    "# Print the AI's response to the user's message\n",
    "print(response.choices[0].message.content)"
   ]
  },
  {
   "cell_type": "code",
   "execution_count": null,
   "id": "28f4494a",
   "metadata": {},
   "outputs": [],
   "source": []
  }
 ],
 "metadata": {
  "kernelspec": {
   "display_name": "genaifundamentals",
   "language": "python",
   "name": "python3"
  },
  "language_info": {
   "codemirror_mode": {
    "name": "ipython",
    "version": 3
   },
   "file_extension": ".py",
   "mimetype": "text/x-python",
   "name": "python",
   "nbconvert_exporter": "python",
   "pygments_lexer": "ipython3",
   "version": "3.12.11"
  }
 },
 "nbformat": 4,
 "nbformat_minor": 5
}
