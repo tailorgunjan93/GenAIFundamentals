{
 "cells": [
  {
   "cell_type": "markdown",
   "id": "b0ff9cb6",
   "metadata": {
    "vscode": {
     "languageId": "perl"
    }
   },
   "source": [
    "# 🚀 Getting Started with the OpenAI Agents SDK\n",
    "\n",
    "Welcome! This notebook will guide you through the basics of using the OpenAI Agents SDK. You'll learn how to set up your environment, create and configure agents, and interact with them programmatically. Let's dive in and unlock the power of intelligent agents!"
   ]
  },
  {
   "cell_type": "code",
   "execution_count": 28,
   "id": "fca3f4a8",
   "metadata": {},
   "outputs": [],
   "source": [
    "#importing liberaries\n",
    "import os\n",
    "from dotenv import load_dotenv\n",
    "from agents import Agent, Runner, trace, function_tool, OpenAIChatCompletionsModel, input_guardrail, GuardrailFunctionOutput\n",
    "from openai import AsyncOpenAI\n",
    "import config"
   ]
  },
  {
   "cell_type": "code",
   "execution_count": 29,
   "id": "422e9c2a",
   "metadata": {},
   "outputs": [],
   "source": [
    "load_dotenv(override=True)\n",
    "gemini_api_key = os.getenv(\"GEMINI_API_KEY\")"
   ]
  },
  {
   "cell_type": "code",
   "execution_count": 30,
   "id": "489c7fe3",
   "metadata": {},
   "outputs": [],
   "source": [
    "model = config.GEMINI_FLASH_MODEL_NAME\n",
    "url = config.GEMINI_URL_OPEN_AI"
   ]
  },
  {
   "cell_type": "code",
   "execution_count": 31,
   "id": "ce5436f1",
   "metadata": {},
   "outputs": [],
   "source": [
    "#this is first agent creation script using gemini model\n",
    "gemini_client = AsyncOpenAI(api_key=gemini_api_key, base_url=url)  "
   ]
  },
  {
   "cell_type": "code",
   "execution_count": 32,
   "id": "78ae7b02",
   "metadata": {},
   "outputs": [],
   "source": [
    "gemini_model = OpenAIChatCompletionsModel(model=model, openai_client=gemini_client)"
   ]
  },
  {
   "cell_type": "code",
   "execution_count": 38,
   "id": "71095aec",
   "metadata": {},
   "outputs": [],
   "source": [
    "first_agent = Agent(\n",
    "    model=gemini_model, name=\"FirstAgent\",\n",
    "    instructions=\"Search on the web and find the answer to the question asked by the user.\")"
   ]
  },
  {
   "cell_type": "code",
   "execution_count": 50,
   "id": "e0bc9c6c",
   "metadata": {},
   "outputs": [
    {
     "name": "stdout",
     "output_type": "stream",
     "text": [
      "Final response: RunResult:\n",
      "- Last agent: Agent(name=\"FirstAgent\", ...)\n",
      "- Final output (str):\n",
      "    While it's impossible to know the exact rankings for 2025 with 100% certainty, here's a projection based on current trends and forecasts from reputable sources like the IMF and World Bank:\n",
      "    \n",
      "    **Top 10 Projected Largest Economies in the World by GDP (Nominal) in 2025:**\n",
      "    \n",
      "    1.  **United States:**  The US is projected to maintain its position as the world's largest economy due to its large and diverse economy, technological innovation, and strong consumer spending.\n",
      "    2.  **China:** China's rapid economic growth is expected to continue, solidifying its place as the second-largest economy.\n",
      "    3.  **Germany:** Germany is expected to remain a leading European economy, driven by its strong manufacturing sector and exports.\n",
      "    4.  **Japan:** Japan's advanced technology and stable economy are expected to keep it in the top tier, despite challenges related to an aging population.\n",
      "    5.  **India:** India is projected to experience significant economic growth, potentially moving up in the rankings due to its large population and expanding middle class.\n",
      "    6.  **United Kingdom:** Despite Brexit, the UK is expected to maintain a significant economic presence, driven by its financial sector and global connections.\n",
      "    7.  **France:** France is projected to remain a major European economy with a diverse industrial base.\n",
      "    8.  **Italy:** Italy's economy, while facing challenges, is expected to remain substantial due to its industrial base and tourism sector.\n",
      "    9.  **Canada:** Canada's resource-rich economy and strong ties to the US are expected to support its position.\n",
      "    10. **Brazil/Russia/South Korea:** This spot is more volatile in projections. These three countries are often close in rankings and could fluctuate depending on commodity prices, geopolitical events, and domestic policies. So, it's difficult to say which one will definitely be in the top 10.\n",
      "    \n",
      "    **Important Considerations:**\n",
      "    \n",
      "    *   **Data Source:** These rankings are typically based on nominal GDP (Gross Domestic Product) in current US dollars.\n",
      "    *   **Forecasts are Subject to Change:** Economic forecasts are inherently uncertain and can be affected by unforeseen events such as pandemics, geopolitical instability, and changes in government policies.\n",
      "    *   **GDP per capita:** It is important to remember that a high GDP does not necessarily translate to a high standard of living for all citizens. GDP per capita (GDP divided by population) provides a better indication of the average economic well-being of individuals in a country.\n",
      "    *   **Purchasing Power Parity (PPP):** Some rankings use PPP instead of nominal GDP, which adjusts for differences in the cost of goods and services between countries. This can significantly alter the rankings.\n",
      "    \n",
      "    I recommend checking the latest reports from the IMF (World Economic Outlook) and the World Bank for updated forecasts as 2025 approaches.\n",
      "- 1 new item(s)\n",
      "- 1 raw response(s)\n",
      "- 0 input guardrail result(s)\n",
      "- 0 output guardrail result(s)\n",
      "(See `RunResult` for more details)\n",
      "Result is While it's impossible to know the exact rankings for 2025 with 100% certainty, here's a projection based on current trends and forecasts from reputable sources like the IMF and World Bank:\n",
      "\n",
      "**Top 10 Projected Largest Economies in the World by GDP (Nominal) in 2025:**\n",
      "\n",
      "1.  **United States:**  The US is projected to maintain its position as the world's largest economy due to its large and diverse economy, technological innovation, and strong consumer spending.\n",
      "2.  **China:** China's rapid economic growth is expected to continue, solidifying its place as the second-largest economy.\n",
      "3.  **Germany:** Germany is expected to remain a leading European economy, driven by its strong manufacturing sector and exports.\n",
      "4.  **Japan:** Japan's advanced technology and stable economy are expected to keep it in the top tier, despite challenges related to an aging population.\n",
      "5.  **India:** India is projected to experience significant economic growth, potentially moving up in the rankings due to its large population and expanding middle class.\n",
      "6.  **United Kingdom:** Despite Brexit, the UK is expected to maintain a significant economic presence, driven by its financial sector and global connections.\n",
      "7.  **France:** France is projected to remain a major European economy with a diverse industrial base.\n",
      "8.  **Italy:** Italy's economy, while facing challenges, is expected to remain substantial due to its industrial base and tourism sector.\n",
      "9.  **Canada:** Canada's resource-rich economy and strong ties to the US are expected to support its position.\n",
      "10. **Brazil/Russia/South Korea:** This spot is more volatile in projections. These three countries are often close in rankings and could fluctuate depending on commodity prices, geopolitical events, and domestic policies. So, it's difficult to say which one will definitely be in the top 10.\n",
      "\n",
      "**Important Considerations:**\n",
      "\n",
      "*   **Data Source:** These rankings are typically based on nominal GDP (Gross Domestic Product) in current US dollars.\n",
      "*   **Forecasts are Subject to Change:** Economic forecasts are inherently uncertain and can be affected by unforeseen events such as pandemics, geopolitical instability, and changes in government policies.\n",
      "*   **GDP per capita:** It is important to remember that a high GDP does not necessarily translate to a high standard of living for all citizens. GDP per capita (GDP divided by population) provides a better indication of the average economic well-being of individuals in a country.\n",
      "*   **Purchasing Power Parity (PPP):** Some rankings use PPP instead of nominal GDP, which adjusts for differences in the cost of goods and services between countries. This can significantly alter the rankings.\n",
      "\n",
      "I recommend checking the latest reports from the IMF (World Economic Outlook) and the World Bank for updated forecasts as 2025 approaches.\n",
      "\n"
     ]
    }
   ],
   "source": [
    "with trace(\"find answer\"):\n",
    "\n",
    "    response = await Runner.run(first_agent,\n",
    "        \"List top 10 economic countries in the world in 2025\"\n",
    "        \n",
    "    )\n",
    "    print(\"Final response:\", response)\n",
    "    print(\"Result is \"+response.final_output)"
   ]
  },
  {
   "cell_type": "code",
   "execution_count": null,
   "id": "6c8eef45",
   "metadata": {},
   "outputs": [],
   "source": []
  }
 ],
 "metadata": {
  "kernelspec": {
   "display_name": "genaifundamentals",
   "language": "python",
   "name": "python3"
  },
  "language_info": {
   "codemirror_mode": {
    "name": "ipython",
    "version": 3
   },
   "file_extension": ".py",
   "mimetype": "text/x-python",
   "name": "python",
   "nbconvert_exporter": "python",
   "pygments_lexer": "ipython3",
   "version": "3.12.11"
  }
 },
 "nbformat": 4,
 "nbformat_minor": 5
}
