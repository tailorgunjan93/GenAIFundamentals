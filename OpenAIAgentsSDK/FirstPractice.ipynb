{
 "cells": [
  {
   "cell_type": "markdown",
   "id": "b0ff9cb6",
   "metadata": {
    "vscode": {
     "languageId": "perl"
    }
   },
   "source": [
    "# 🚀 Getting Started with the OpenAI Agents SDK\n",
    "\n",
    "Welcome! This notebook will guide you through the basics of using the OpenAI Agents SDK. You'll learn how to set up your environment, create and configure agents, and interact with them programmatically. Let's dive in and unlock the power of intelligent agents!"
   ]
  },
  {
   "cell_type": "code",
   "execution_count": 28,
   "id": "fca3f4a8",
   "metadata": {},
   "outputs": [],
   "source": [
    "#importing liberaries\n",
    "import os\n",
    "from dotenv import load_dotenv\n",
    "from agents import Agent, Runner, trace, function_tool, OpenAIChatCompletionsModel, input_guardrail, GuardrailFunctionOutput\n",
    "from openai import AsyncOpenAI\n",
    "import config"
   ]
  },
  {
   "cell_type": "code",
   "execution_count": 29,
   "id": "422e9c2a",
   "metadata": {},
   "outputs": [],
   "source": [
    "load_dotenv(override=True)\n",
    "gemini_api_key = os.getenv(\"GEMINI_API_KEY\")"
   ]
  },
  {
   "cell_type": "code",
   "execution_count": 30,
   "id": "489c7fe3",
   "metadata": {},
   "outputs": [],
   "source": [
    "model = config.GEMINI_FLASH_MODEL_NAME\n",
    "url = config.GEMINI_URL_OPEN_AI"
   ]
  },
  {
   "cell_type": "code",
   "execution_count": 31,
   "id": "ce5436f1",
   "metadata": {},
   "outputs": [],
   "source": [
    "#this is first agent creation script using gemini model\n",
    "gemini_client = AsyncOpenAI(api_key=gemini_api_key, base_url=url)  "
   ]
  },
  {
   "cell_type": "code",
   "execution_count": 32,
   "id": "78ae7b02",
   "metadata": {},
   "outputs": [],
   "source": [
    "gemini_model = OpenAIChatCompletionsModel(model=model, openai_client=gemini_client)"
   ]
  },
  {
   "cell_type": "code",
   "execution_count": 33,
   "id": "71095aec",
   "metadata": {},
   "outputs": [
    {
     "ename": "TypeError",
     "evalue": "Agent.__init__() got an unexpected keyword argument 'system_message'",
     "output_type": "error",
     "traceback": [
      "\u001b[31m---------------------------------------------------------------------------\u001b[39m",
      "\u001b[31mTypeError\u001b[39m                                 Traceback (most recent call last)",
      "\u001b[36mCell\u001b[39m\u001b[36m \u001b[39m\u001b[32mIn[33]\u001b[39m\u001b[32m, line 1\u001b[39m\n\u001b[32m----> \u001b[39m\u001b[32m1\u001b[39m first_agent = \u001b[43mAgent\u001b[49m\u001b[43m(\u001b[49m\n\u001b[32m      2\u001b[39m \u001b[43m    \u001b[49m\u001b[43mmodel\u001b[49m\u001b[43m=\u001b[49m\u001b[43mgemini_model\u001b[49m\u001b[43m,\u001b[49m\u001b[43m \u001b[49m\u001b[43mname\u001b[49m\u001b[43m=\u001b[49m\u001b[33;43m\"\u001b[39;49m\u001b[33;43mFirstAgent\u001b[39;49m\u001b[33;43m\"\u001b[39;49m\u001b[43m,\u001b[49m\n\u001b[32m      3\u001b[39m \u001b[43m    \u001b[49m\u001b[43msystem_message\u001b[49m\u001b[43m=\u001b[49m\u001b[33;43m\"\u001b[39;49m\u001b[33;43mYou are a helpful assistant that helps people find information.\u001b[39;49m\u001b[33;43m\"\u001b[39;49m\u001b[43m)\u001b[49m\n",
      "\u001b[31mTypeError\u001b[39m: Agent.__init__() got an unexpected keyword argument 'system_message'"
     ]
    }
   ],
   "source": [
    "first_agent = Agent(\n",
    "    model=gemini_model, name=\"FirstAgent\",\n",
    "    system_message=\"You are a helpful assistant that helps people find information.\")"
   ]
  },
  {
   "cell_type": "code",
   "execution_count": null,
   "id": "e0bc9c6c",
   "metadata": {},
   "outputs": [],
   "source": []
  }
 ],
 "metadata": {
  "kernelspec": {
   "display_name": "genaifundamentals",
   "language": "python",
   "name": "python3"
  },
  "language_info": {
   "codemirror_mode": {
    "name": "ipython",
    "version": 3
   },
   "file_extension": ".py",
   "mimetype": "text/x-python",
   "name": "python",
   "nbconvert_exporter": "python",
   "pygments_lexer": "ipython3",
   "version": "3.12.11"
  }
 },
 "nbformat": 4,
 "nbformat_minor": 5
}
