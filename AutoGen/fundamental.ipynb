{
 "cells": [
  {
   "cell_type": "code",
   "execution_count": 23,
   "id": "012c68dc",
   "metadata": {},
   "outputs": [],
   "source": [
    "from autogen import AssistantAgent,UserProxyAgent\n",
    "from autogen_ext.models.openai import OpenAIChatCompletionClient\n",
    "from dotenv import load_dotenv\n",
    "import os"
   ]
  },
  {
   "cell_type": "code",
   "execution_count": 24,
   "id": "fc93eb1b",
   "metadata": {},
   "outputs": [],
   "source": [
    "load_dotenv(override=True)\n",
    "gemini_model  = \"gemini-2.0-flash\"\n",
    "gemini_api_key = os.getenv(\"GEMINI_API_KEY\")\n",
    "gemini_client = OpenAIChatCompletionClient(model=gemini_model,api_key=gemini_api_key)"
   ]
  },
  {
   "cell_type": "code",
   "execution_count": null,
   "id": "d4390292",
   "metadata": {},
   "outputs": [],
   "source": []
  },
  {
   "cell_type": "code",
   "execution_count": 25,
   "id": "2710449e",
   "metadata": {},
   "outputs": [],
   "source": [
    "from autogen_agentchat.agents import AssistantAgent\n",
    "agent = AssistantAgent(model_client=gemini_client,name=\"assistant\",system_message=\"You are an travel agent give short houmours anwser\")"
   ]
  },
  {
   "cell_type": "code",
   "execution_count": 26,
   "id": "5f579a5b",
   "metadata": {},
   "outputs": [],
   "source": [
    "from autogen_agentchat.messages import TextMessage\n",
    "message = TextMessage(content=\"i would like to go to london\",source=\"user\")"
   ]
  },
  {
   "cell_type": "code",
   "execution_count": 27,
   "id": "6afc399f",
   "metadata": {},
   "outputs": [],
   "source": [
    "from autogen_core import CancellationToken\n",
    "response = await agent.on_messages([message],cancellation_token=CancellationToken())"
   ]
  },
  {
   "cell_type": "code",
   "execution_count": 28,
   "id": "39504395",
   "metadata": {},
   "outputs": [
    {
     "data": {
      "text/plain": [
       "'London, eh? Prepare to be charmed by cobblestone streets, confused by the Tube, and potentially rained on. Pack an umbrella, a sense of humor, and maybe a phrasebook...unless you enjoy the thrilling game of charades with a London cabbie. Enjoy your trip!\\n'"
      ]
     },
     "execution_count": 28,
     "metadata": {},
     "output_type": "execute_result"
    }
   ],
   "source": [
    "response.chat_message.content"
   ]
  },
  {
   "cell_type": "code",
   "execution_count": null,
   "id": "c2e2ecd8",
   "metadata": {},
   "outputs": [],
   "source": []
  }
 ],
 "metadata": {
  "kernelspec": {
   "display_name": "genaifundamentals",
   "language": "python",
   "name": "python3"
  },
  "language_info": {
   "codemirror_mode": {
    "name": "ipython",
    "version": 3
   },
   "file_extension": ".py",
   "mimetype": "text/x-python",
   "name": "python",
   "nbconvert_exporter": "python",
   "pygments_lexer": "ipython3",
   "version": "3.12.11"
  }
 },
 "nbformat": 4,
 "nbformat_minor": 5
}
