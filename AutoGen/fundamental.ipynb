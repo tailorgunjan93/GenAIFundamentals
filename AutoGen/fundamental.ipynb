{
 "cells": [
  {
   "cell_type": "code",
   "execution_count": 1,
   "id": "012c68dc",
   "metadata": {},
   "outputs": [],
   "source": [
    "from autogen import AssistantAgent,UserProxyAgent\n",
    "from autogen_ext.models.openai import OpenAIChatCompletionClient\n",
    "from dotenv import load_dotenv\n",
    "import os"
   ]
  },
  {
   "cell_type": "code",
   "execution_count": 2,
   "id": "fc93eb1b",
   "metadata": {},
   "outputs": [],
   "source": [
    "load_dotenv(override=True)\n",
    "gemini_model  = \"gemini-2.0-flash\"\n",
    "gemini_api_key = os.getenv(\"GEMINI_API_KEY\")\n",
    "gemini_client = OpenAIChatCompletionClient(model=gemini_model,api_key=gemini_api_key)"
   ]
  },
  {
   "cell_type": "code",
   "execution_count": null,
   "id": "d4390292",
   "metadata": {},
   "outputs": [],
   "source": []
  },
  {
   "cell_type": "code",
   "execution_count": 3,
   "id": "2710449e",
   "metadata": {},
   "outputs": [],
   "source": [
    "from autogen_agentchat.agents import AssistantAgent\n",
    "agent = AssistantAgent(model_client=gemini_client,name=\"assistant\",system_message=\"You are an travel agent give short houmours anwser\")"
   ]
  },
  {
   "cell_type": "code",
   "execution_count": 4,
   "id": "5f579a5b",
   "metadata": {},
   "outputs": [],
   "source": [
    "from autogen_agentchat.messages import TextMessage\n",
    "message = TextMessage(content=\"i would like to go to london\",source=\"user\")"
   ]
  },
  {
   "cell_type": "code",
   "execution_count": 5,
   "id": "6afc399f",
   "metadata": {},
   "outputs": [],
   "source": [
    "from autogen_core import CancellationToken\n",
    "response = await agent.on_messages([message],cancellation_token=CancellationToken())"
   ]
  },
  {
   "cell_type": "code",
   "execution_count": 6,
   "id": "39504395",
   "metadata": {},
   "outputs": [
    {
     "data": {
      "text/plain": [
       "\"Alright, London! Prepare for questionable weather, fantastic museums, and enough history to make your head spin (but in a good way, I promise!). Just pack an umbrella and a sense of humor, and you'll be grand!  Need some suggestions? Maybe we can find you a palace to crash in...or at least a decent pub. 😉\\n\""
      ]
     },
     "execution_count": 6,
     "metadata": {},
     "output_type": "execute_result"
    }
   ],
   "source": [
    "response.chat_message.content"
   ]
  },
  {
   "cell_type": "code",
   "execution_count": 7,
   "id": "c2e2ecd8",
   "metadata": {},
   "outputs": [],
   "source": [
    "import os\n",
    "import sqlite3\n",
    "from pathlib import Path\n",
    "\n",
    "\n",
    "path = Path('./memory')\n",
    "db = 'tickets.db'\n",
    "dbpath = os.path.join(path,db)\n",
    "\n",
    "\n",
    "if os.path.exists(dbpath):\n",
    "    os.remove(dbpath)\n",
    "\n",
    "path.mkdir(exist_ok=True)"
   ]
  },
  {
   "cell_type": "code",
   "execution_count": 8,
   "id": "06881792",
   "metadata": {},
   "outputs": [],
   "source": [
    "conn = sqlite3.connect(dbpath)\n",
    "c = conn.cursor()\n",
    "c.execute(\"CREATE TABLE cities (city_name TEXT PRIMARY KEY, round_trip_price REAL)\")\n",
    "conn.commit()\n",
    "conn.close()"
   ]
  },
  {
   "cell_type": "code",
   "execution_count": 9,
   "id": "1d9d2d37",
   "metadata": {},
   "outputs": [],
   "source": [
    "def save_city_price(city_name, round_trip_price):\n",
    "    conn = sqlite3.connect(dbpath)\n",
    "    c = conn.cursor()\n",
    "    c.execute(\"REPLACE INTO cities (city_name, round_trip_price) VALUES (?, ?)\", (city_name.lower(), round_trip_price))\n",
    "    conn.commit()\n",
    "    conn.close()"
   ]
  },
  {
   "cell_type": "code",
   "execution_count": 10,
   "id": "d50debf5",
   "metadata": {},
   "outputs": [],
   "source": [
    "save_city_price(\"London\", 299)\n",
    "save_city_price(\"Paris\", 399)\n",
    "save_city_price(\"Rome\", 499)\n",
    "save_city_price(\"Madrid\", 550)\n",
    "save_city_price(\"Barcelona\", 580)\n",
    "save_city_price(\"Berlin\", 525)"
   ]
  },
  {
   "cell_type": "code",
   "execution_count": 11,
   "id": "967c96b2",
   "metadata": {},
   "outputs": [],
   "source": [
    "def get_city_price(cityname:str) -> float|None:\n",
    "    conn = sqlite3.connect(dbpath)\n",
    "    c = conn.cursor()\n",
    "    c.execute(\"select round_trip_price from cities where city_name =?\",(cityname.lower(),) )\n",
    "    result = c.fetchone()\n",
    "    conn.close()\n",
    "    return result[0] if result else None"
   ]
  },
  {
   "cell_type": "code",
   "execution_count": 12,
   "id": "9547f9e2",
   "metadata": {},
   "outputs": [
    {
     "data": {
      "text/plain": [
       "499.0"
      ]
     },
     "execution_count": 12,
     "metadata": {},
     "output_type": "execute_result"
    }
   ],
   "source": [
    "get_city_price(\"rome\")"
   ]
  },
  {
   "cell_type": "code",
   "execution_count": 19,
   "id": "90ca8cfc",
   "metadata": {},
   "outputs": [],
   "source": [
    "from autogen_agentchat.agents import AssistantAgent\n",
    "smart_agent = AssistantAgent(\n",
    "    name=\"smart_agent\",\n",
    "    description=\"give homourouse answer as an travel agent short\",\n",
    "    tools=[get_city_price],\n",
    "    system_message=\"You are a helpful assistant for an airline. You give short, humorous answers, including the price of a roundtrip ticket.\",\n",
    "    model_client= gemini_client,\n",
    "    reflect_on_tool_use=True,\n",
    "    model_client_stream=True\n",
    "\n",
    ")"
   ]
  },
  {
   "cell_type": "code",
   "execution_count": 24,
   "id": "925315ee",
   "metadata": {},
   "outputs": [],
   "source": [
    "response = await smart_agent.on_messages([message],CancellationToken())"
   ]
  },
  {
   "cell_type": "code",
   "execution_count": 27,
   "id": "ca12cafb",
   "metadata": {},
   "outputs": [
    {
     "data": {
      "text/plain": [
       "\"London calling! Get ready for Big Ben, fish and chips, and maybe a glimpse of the Queen (though she's probably busy). The price for a roundtrip ticket is $200. Pip pip, cheerio!\\n\""
      ]
     },
     "execution_count": 27,
     "metadata": {},
     "output_type": "execute_result"
    }
   ],
   "source": [
    "for inner_message in response.inner_messages:\n",
    "    print(inner_message.content)\n",
    "response.chat_message.content"
   ]
  },
  {
   "cell_type": "code",
   "execution_count": null,
   "id": "80146536",
   "metadata": {},
   "outputs": [],
   "source": []
  }
 ],
 "metadata": {
  "kernelspec": {
   "display_name": "genaifundamentals",
   "language": "python",
   "name": "python3"
  },
  "language_info": {
   "codemirror_mode": {
    "name": "ipython",
    "version": 3
   },
   "file_extension": ".py",
   "mimetype": "text/x-python",
   "name": "python",
   "nbconvert_exporter": "python",
   "pygments_lexer": "ipython3",
   "version": "3.12.11"
  }
 },
 "nbformat": 4,
 "nbformat_minor": 5
}
