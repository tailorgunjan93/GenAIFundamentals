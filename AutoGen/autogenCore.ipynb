{
 "cells": [
  {
   "cell_type": "code",
   "execution_count": 25,
   "id": "89752173",
   "metadata": {},
   "outputs": [],
   "source": [
    "from autogen_agentchat.messages import TextMessage\n",
    "from autogen_ext.models.openai import OpenAIChatCompletionClient\n",
    "from autogen_agentchat.agents import AssistantAgent\n",
    "from autogen_core import AgentId,MessageContext,RoutedAgent,message_handler,SingleThreadedAgentRuntime\n",
    "from dataclasses import dataclass\n",
    "import os\n",
    "from dotenv import load_dotenv"
   ]
  },
  {
   "cell_type": "code",
   "execution_count": 26,
   "id": "d091a188",
   "metadata": {},
   "outputs": [],
   "source": [
    "load_dotenv(override=True)\n",
    "gemini_model  = \"gemini-2.0-flash\"\n",
    "gemini_api_key = os.getenv(\"GEMINI_API_KEY\")\n",
    "gemini_client = OpenAIChatCompletionClient(model=gemini_model,api_key=gemini_api_key)"
   ]
  },
  {
   "cell_type": "code",
   "execution_count": 27,
   "id": "fbc58279",
   "metadata": {},
   "outputs": [],
   "source": [
    "@dataclass\n",
    "class Message:\n",
    "    content :str"
   ]
  },
  {
   "cell_type": "code",
   "execution_count": 28,
   "id": "180992ae",
   "metadata": {},
   "outputs": [],
   "source": [
    "class simple_agent(RoutedAgent):\n",
    "    def __init__(self):\n",
    "        super().__init__(\"Simple\")\n",
    "    @message_handler\n",
    "    async def on_my_message(self,message:Message,ctx:MessageContext)->Message:\n",
    "        return Message(content=f\"This is {self.id.type}-{self.id.key}. You said '{message.content}' and I disagree.\")\n",
    "    "
   ]
  },
  {
   "cell_type": "code",
   "execution_count": 29,
   "id": "786d431e",
   "metadata": {},
   "outputs": [
    {
     "data": {
      "text/plain": [
       "AgentType(type='simple_agent')"
      ]
     },
     "execution_count": 29,
     "metadata": {},
     "output_type": "execute_result"
    }
   ],
   "source": [
    "runtime = SingleThreadedAgentRuntime()\n",
    "await simple_agent.register(runtime,\"simple_agent\",lambda:simple_agent())\n"
   ]
  },
  {
   "cell_type": "code",
   "execution_count": 30,
   "id": "a52de8a9",
   "metadata": {},
   "outputs": [],
   "source": [
    "runtime.start()"
   ]
  },
  {
   "cell_type": "code",
   "execution_count": 31,
   "id": "a79c426d",
   "metadata": {},
   "outputs": [
    {
     "data": {
      "text/plain": [
       "\"This is simple_agent-default. You said 'Hi there' and I disagree.\""
      ]
     },
     "execution_count": 31,
     "metadata": {},
     "output_type": "execute_result"
    }
   ],
   "source": [
    "Agent_id = AgentId(\"simple_agent\",\"default\")\n",
    "response = await runtime.send_message(Message(\"Hi there\"),Agent_id)\n",
    "response.content"
   ]
  },
  {
   "cell_type": "code",
   "execution_count": 32,
   "id": "a8cc8c77",
   "metadata": {},
   "outputs": [],
   "source": [
    "await runtime.stop()\n",
    "await runtime.close()"
   ]
  },
  {
   "cell_type": "code",
   "execution_count": 33,
   "id": "b5c2603e",
   "metadata": {},
   "outputs": [],
   "source": [
    "class llm_agent(RoutedAgent):\n",
    "    def __init__(self):\n",
    "        super().__init__(\"LLMAgent\")\n",
    "        self._delegate=AssistantAgent(\"LLMAgent\",model_client=gemini_client)\n",
    "    \n",
    "    @message_handler\n",
    "    async def handle_my_message(self,message:Message,ctx:MessageContext)->Message:\n",
    "        print(f\"{self.id.type} received message: {message.content}\")\n",
    "        text_message = TextMessage(content=message.content,source=\"user\")\n",
    "        response = await self._delegate.on_messages(messages=[text_message],cancellation_token=ctx.cancellation_token)\n",
    "        reply = response.chat_message.content\n",
    "        print(reply)\n",
    "        return Message(content=reply)\n",
    "\n"
   ]
  },
  {
   "cell_type": "code",
   "execution_count": 34,
   "id": "f8f558a8",
   "metadata": {},
   "outputs": [
    {
     "data": {
      "text/plain": [
       "AgentType(type='LLMAgent')"
      ]
     },
     "execution_count": 34,
     "metadata": {},
     "output_type": "execute_result"
    }
   ],
   "source": [
    "runtime = SingleThreadedAgentRuntime()\n",
    "await simple_agent.register(runtime,\"SimpleAgent\",lambda:simple_agent())\n",
    "await llm_agent.register(runtime,\"LLMAgent\",lambda:llm_agent())\n"
   ]
  },
  {
   "cell_type": "code",
   "execution_count": 35,
   "id": "1a8a15ed",
   "metadata": {},
   "outputs": [
    {
     "name": "stdout",
     "output_type": "stream",
     "text": [
      "LLMAgent received message: This is SimpleAgent-default. You said 'Hi there' and I disagree.\n",
      "Okay, I understand. I will refrain from saying \"Hi there\" in the future. How can I assist you now?\n",
      "TERMINATE\n",
      "\n",
      "LLMAgent received message: Okay, I understand. I will refrain from saying \"Hi there\" in the future. How can I assist you now?\n",
      "TERMINATE\n",
      "\n",
      "Understood. I will not say \"Hi there.\" How can I help you today?\n",
      "TERMINATE\n",
      "\n"
     ]
    }
   ],
   "source": [
    "runtime.start()\n",
    "response = await runtime.send_message(Message(\"Hi there\"),AgentId(\"SimpleAgent\",\"default\"))\n",
    "response = await runtime.send_message(Message(response.content),AgentId(\"LLMAgent\",\"default\"))\n",
    "response = await runtime.send_message(Message(response.content),AgentId(\"LLMAgent\",\"default\"))\n"
   ]
  },
  {
   "cell_type": "code",
   "execution_count": 36,
   "id": "42d4df7a",
   "metadata": {},
   "outputs": [],
   "source": [
    "await runtime.stop()\n",
    "await runtime.close()"
   ]
  },
  {
   "cell_type": "code",
   "execution_count": 37,
   "id": "8793d27a",
   "metadata": {},
   "outputs": [],
   "source": [
    "class Player1(RoutedAgent):\n",
    "    def __init__(self,name:str)->None:\n",
    "        super().__init__(name)\n",
    "        self._delegate = AssistantAgent(name,model_client=gemini_client)\n",
    "    \n",
    "    @message_handler\n",
    "    async def handle_message(self,message:Message,ctx:MessageContext)->Message:\n",
    "        text_message = TextMessage(content=message.content,source=\"user\")\n",
    "        response = await self._delegate.on_messages([text_message],ctx.cancellation_token)\n",
    "        return Message(content=response.chat_message.content)\n",
    "    \n",
    "class Player2(RoutedAgent):\n",
    "    def __init__(self,name:str)->None:\n",
    "        super().__init__(name)\n",
    "        self._delegate = AssistantAgent(name,model_client=gemini_client)\n",
    "    \n",
    "    @message_handler\n",
    "    async def handle_message(self,message:Message,ctx:MessageContext)->Message:\n",
    "        text_message = TextMessage(content=message.content,source=\"user\")\n",
    "        response = await self._delegate.on_messages([text_message],ctx.cancellation_token)\n",
    "        return Message(content=response.chat_message.content)\n"
   ]
  },
  {
   "cell_type": "code",
   "execution_count": 38,
   "id": "53e543d5",
   "metadata": {},
   "outputs": [],
   "source": [
    "JUDGE = \"You are judging a game of rock, paper, scissors. The players have made these choices:\\n\"\n",
    "\n",
    "class rock_paper_scissers(RoutedAgent):\n",
    "    def __init__(self,name:str)->None:\n",
    "        super().__init__(name)\n",
    "        self._delegate =AssistantAgent(name,model_client=gemini_client)\n",
    "    \n",
    "    @message_handler\n",
    "    async def game_handler(self,message:Message,ctx:MessageContext)->Message:\n",
    "        instruction = \"You are playing rock, paper, scissors. Respond only with the one word, one of the following: rock, paper, or scissors.\"\n",
    "        message = Message(content=instruction)\n",
    "        inner_1 = AgentId(\"Player1\", \"default\")\n",
    "        inner_2 = AgentId(\"Player2\", \"default\")\n",
    "        response1 = await self.send_message(message, inner_1)\n",
    "        response2 = await self.send_message(message, inner_2)\n",
    "        result = f\"Player 1: {response1.content}\\nPlayer 2: {response2.content}\\n\"\n",
    "        judgement = f\"{JUDGE}{result}Who wins?\"\n",
    "        message = TextMessage(content=judgement, source=\"user\")\n",
    "        response = await self._delegate.on_messages([message], ctx.cancellation_token)\n",
    "        return Message(content=result + response.chat_message.content)"
   ]
  },
  {
   "cell_type": "code",
   "execution_count": 41,
   "id": "574a020f",
   "metadata": {},
   "outputs": [],
   "source": [
    "runtime = SingleThreadedAgentRuntime()\n",
    "await Player1.register(runtime,\"Player1\",lambda:Player1(\"Player1\"))\n",
    "await Player2.register(runtime,\"Player2\",lambda:Player2(\"Player2\"))\n",
    "await rock_paper_scissers.register(runtime,\"rock_paper_sci\",lambda:rock_paper_scissers(\"rock_paper_sci\"))\n",
    "runtime.start()"
   ]
  },
  {
   "cell_type": "code",
   "execution_count": 44,
   "id": "1b02a6ff",
   "metadata": {},
   "outputs": [
    {
     "name": "stdout",
     "output_type": "stream",
     "text": [
      "Player 1: scissors\n",
      "TERMINATE\n",
      "\n",
      "Player 2: scissors\n",
      "TERMINATE\n",
      "\n",
      "It's a tie.\n",
      "TERMINATE\n",
      "\n"
     ]
    }
   ],
   "source": [
    "agent_id = AgentId(\"rock_paper_sci\",\"default\")\n",
    "message = Message(content=\"go\")\n",
    "response = await runtime.send_message(message, agent_id)\n",
    "print(response.content)"
   ]
  },
  {
   "cell_type": "code",
   "execution_count": null,
   "id": "9b6b5137",
   "metadata": {},
   "outputs": [],
   "source": []
  }
 ],
 "metadata": {
  "kernelspec": {
   "display_name": "genaifundamentals",
   "language": "python",
   "name": "python3"
  },
  "language_info": {
   "codemirror_mode": {
    "name": "ipython",
    "version": 3
   },
   "file_extension": ".py",
   "mimetype": "text/x-python",
   "name": "python",
   "nbconvert_exporter": "python",
   "pygments_lexer": "ipython3",
   "version": "3.12.11"
  }
 },
 "nbformat": 4,
 "nbformat_minor": 5
}
