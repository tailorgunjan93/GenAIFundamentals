{
 "cells": [
  {
   "cell_type": "code",
   "execution_count": 3,
   "id": "c0c92cfc",
   "metadata": {},
   "outputs": [],
   "source": [
    "from autogen_agentchat.agents import AssistantAgent\n",
    "from autogen_ext.models.openai import OpenAIChatCompletionClient\n",
    "from autogen_agentchat.messages import TextMessage\n",
    "from autogen_ext.tools.mcp import StdioServerParams,mcp_server_tools\n",
    "from IPython.display import display,Markdown"
   ]
  },
  {
   "cell_type": "code",
   "execution_count": 4,
   "id": "c0954cc7",
   "metadata": {},
   "outputs": [],
   "source": [
    "from dotenv import load_dotenv\n",
    "import os\n",
    "load_dotenv(override=True)\n",
    "gemini_model  = \"gemini-2.0-flash\"\n",
    "gemini_api_key = os.getenv(\"GEMINI_API_KEY\")\n",
    "gemini_client = OpenAIChatCompletionClient(model=gemini_model,api_key=gemini_api_key)"
   ]
  },
  {
   "cell_type": "code",
   "execution_count": 5,
   "id": "de58ce63",
   "metadata": {},
   "outputs": [],
   "source": [
    "fetch_mcp_server = StdioServerParams(command=\"uvx\", args=[\"mcp-server-fetch\"], read_timeout_seconds=30)\n",
    "fetcher = await mcp_server_tools(fetch_mcp_server)"
   ]
  },
  {
   "cell_type": "code",
   "execution_count": 6,
   "id": "7b411a9d",
   "metadata": {},
   "outputs": [
    {
     "data": {
      "text/markdown": [
       "Edward Donner is the co-founder and CTO of Nebula.io, an AI company focused on talent discovery and management. He was previously the founder and CEO of AI startup untapt, which was acquired in 2021. He enjoys coding, experimenting with LLMs, DJing, electronic music production, and Hacker News. He lists several recent posts related to AI, including \"AI in Production: Gen AI and Agentic AI on AWS at scale\" and \"The Complete Agentic AI Engineering Course\". The site also provides contact information (email) and links to his profiles on LinkedIn, Twitter, and Facebook, and a newsletter subscription.\n"
      ],
      "text/plain": [
       "<IPython.core.display.Markdown object>"
      ]
     },
     "metadata": {},
     "output_type": "display_data"
    }
   ],
   "source": [
    "# Create an agent that can use the fetch tool.\n",
    "agent = AssistantAgent(name=\"fetcher\", model_client=gemini_client, tools=fetcher, reflect_on_tool_use=True)  # type: ignore\n",
    "\n",
    "# Let the agent fetch the content of a URL and summarize it.\n",
    "result = await agent.run(task=\"Review edwarddonner.com and summarize what you learn. Reply in Markdown.\")\n",
    "display(Markdown(result.messages[-1].content))"
   ]
  },
  {
   "cell_type": "code",
   "execution_count": null,
   "id": "870d3c79",
   "metadata": {},
   "outputs": [],
   "source": []
  }
 ],
 "metadata": {
  "kernelspec": {
   "display_name": ".venv",
   "language": "python",
   "name": "python3"
  },
  "language_info": {
   "codemirror_mode": {
    "name": "ipython",
    "version": 3
   },
   "file_extension": ".py",
   "mimetype": "text/x-python",
   "name": "python",
   "nbconvert_exporter": "python",
   "pygments_lexer": "ipython3",
   "version": "3.12.3"
  }
 },
 "nbformat": 4,
 "nbformat_minor": 5
}
